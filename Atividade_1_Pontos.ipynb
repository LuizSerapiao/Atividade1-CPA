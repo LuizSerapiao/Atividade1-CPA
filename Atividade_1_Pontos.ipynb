{
  "cells": [
    {
      "cell_type": "markdown",
      "metadata": {
        "id": "view-in-github",
        "colab_type": "text"
      },
      "source": [
        "<a href=\"https://colab.research.google.com/github/LuizSerapiao/Atividade1-CPA/blob/main/Atividade_1_Pontos.ipynb\" target=\"_parent\"><img src=\"https://colab.research.google.com/assets/colab-badge.svg\" alt=\"Open In Colab\"/></a>"
      ]
    },
    {
      "cell_type": "markdown",
      "metadata": {
        "id": "XAdlKnDBj5uB"
      },
      "source": [
        "# EFC1 GCC253 - Complexidade e Projeto de Algoritmos - 5 pontos.\n",
        "\n",
        "\n",
        "> **Prof.: Douglas H. S. Abreu**\n",
        "\n",
        "\n",
        "**Aluno**: Luiz Felipe Baptista Serapião\n",
        "\n",
        "**Matricula**: 201620440\n",
        "\n",
        "**Turma**: 10A\n",
        "\n",
        "Link do repositório GitHub: https://github.com/LuizSerapiao/Atividade1-CPA/blob/fa14ce440ecea2a91f9309493018f7ebe148d4d5/README.md\n",
        "\n",
        "● O trabalho deve ser feito em grupos de no máximo 4 componentes (Apenas um deve enviar a atividade no Campus Virtual)\n",
        "\n",
        "● Trabalhos entregues após a data limite não serão aceitos\n",
        "\n",
        "● Data limite de entrega: 20 de Novembro de 2022 : 23h55m\n",
        "\n",
        "● Enviar o trabalho para o campus virtual, do seguinte modo: link do repositório GitHub com acesso ao Notebook.\n",
        "\n",
        "● O trabalho deve ser desenvolvido no modelo Notebook utilizando preferencialmente a linguagem Python"
      ]
    },
    {
      "cell_type": "markdown",
      "metadata": {
        "id": "J3d6JlRUxREN"
      },
      "source": [
        "# Importações e Variáveis globais"
      ]
    },
    {
      "cell_type": "code",
      "execution_count": 68,
      "metadata": {
        "id": "Ur1DVGQAxac4"
      },
      "outputs": [],
      "source": [
        "import numpy as np\n",
        "\n",
        "global_1=0\n",
        "Array1 = [7, 1, 7, 5, 8, 1, 8, 9, 5, 4, 54]\n",
        "Array2 = [1000, 40, 23, 57, 46, 58, 66, 99 ,45 ,555]\n",
        "Array3 = [44, 111, 243, 554, 28, 331, 418, 649, 785, 4, 54354]\n",
        "arrays = []\n",
        "arrays.append(Array1)\n",
        "arrays.append(Array2)\n",
        "arrays.append(Array3)"
      ]
    },
    {
      "cell_type": "markdown",
      "metadata": {
        "id": "kPNpzNYwkKAO"
      },
      "source": [
        "# Funções de Ordenação\n",
        "\n",
        "> Utilize este espaço para definir as funções de ordenação.\n",
        "\n"
      ]
    },
    {
      "cell_type": "markdown",
      "metadata": {
        "id": "nEw1UEsmoKMg"
      },
      "source": [
        "##  Insertion Sort\n"
      ]
    },
    {
      "cell_type": "code",
      "execution_count": null,
      "metadata": {
        "id": "kbOrhdB-j_px"
      },
      "outputs": [],
      "source": [
        "def insertionSort(A):\n",
        "  j=2\n",
        "  for j in range(len(A)):\n",
        "    chave = A[j]\n",
        "    i = j-1\n",
        "    while i>=0 and A[i]>=chave:\n",
        "      A[i+1] = A[i]\n",
        "      i = i-1\n",
        "    A[i+1] = chave\n",
        "  return A"
      ]
    },
    {
      "cell_type": "markdown",
      "metadata": {
        "id": "9a-wJwU-wtmQ"
      },
      "source": [
        "##  Merge Sort\n"
      ]
    },
    {
      "cell_type": "code",
      "execution_count": null,
      "metadata": {
        "id": "8cgIJ_4EwbPN"
      },
      "outputs": [],
      "source": [
        "def mergeSort(A):\n",
        "    if len(A)>1:\n",
        "        mid = len(A)//2\n",
        "        lefthalf = A[:mid]\n",
        "        righthalf = A[mid:]\n",
        "\n",
        "        mergeSort(lefthalf)\n",
        "        mergeSort(righthalf)\n",
        "\n",
        "        i=0\n",
        "        j=0\n",
        "        k=0\n",
        "        while i < len(lefthalf) and j < len(righthalf):\n",
        "            if lefthalf[i] < righthalf[j]:\n",
        "                A[k]=lefthalf[i]\n",
        "                i=i+1\n",
        "            else:\n",
        "                A[k]=righthalf[j]\n",
        "                j=j+1\n",
        "            k=k+1\n",
        "\n",
        "        while i < len(lefthalf):\n",
        "            A[k]=lefthalf[i]\n",
        "            i=i+1\n",
        "            k=k+1\n",
        "\n",
        "        while j < len(righthalf):\n",
        "            A[k]=righthalf[j]\n",
        "            j=j+1\n",
        "            k=k+1\n",
        "    return A"
      ]
    },
    {
      "cell_type": "markdown",
      "metadata": {
        "id": "8dWpeYUvw-wU"
      },
      "source": [
        "##  Selection Sort\n"
      ]
    },
    {
      "cell_type": "code",
      "execution_count": null,
      "metadata": {
        "id": "vNgUDShawygu"
      },
      "outputs": [],
      "source": [
        "def selectionSort(A):\n",
        "  length = len(A)\n",
        "  for item in range(length):\n",
        "    minimum = item\n",
        "\n",
        "    for i in range(item + 1, length):\n",
        "      if A[i] < A[minimum]:\n",
        "        minimum = i\n",
        "\n",
        "    (A[item], A[minimum]) = (A[minimum], A[item])\n",
        "  return A"
      ]
    },
    {
      "cell_type": "markdown",
      "metadata": {
        "id": "zNI1kX0yyDrs"
      },
      "source": [
        "##  Bubble Sort\n"
      ]
    },
    {
      "cell_type": "code",
      "execution_count": null,
      "metadata": {
        "id": "6X_zk1yWxMQS"
      },
      "outputs": [],
      "source": [
        "def bubbleSort(A):\n",
        "  n = len(A)\n",
        "  swapped = False\n",
        "  \n",
        "  for i in range(n-1):\n",
        "      \n",
        "      for j in range(0, n-i-1):\n",
        "\n",
        "          \n",
        "          if A[j] > A[j + 1]:\n",
        "              swapped = True\n",
        "              A[j], A[j + 1] = A[j + 1], A[j]\n",
        "        \n",
        "      if not swapped:\n",
        "          return A\n",
        "  return A"
      ]
    },
    {
      "cell_type": "markdown",
      "metadata": {
        "id": "vk4vOTkKyLB-"
      },
      "source": [
        "## Heap Sort"
      ]
    },
    {
      "cell_type": "code",
      "execution_count": null,
      "metadata": {
        "id": "39a7xXzLyH9g"
      },
      "outputs": [],
      "source": [
        "def heapify(arr, n, i):\n",
        "  # Find largest among root and children\n",
        "  largest = i\n",
        "  l = 2 * i + 1\n",
        "  r = 2 * i + 2\n",
        "\n",
        "  if l < n and arr[i] < arr[l]:\n",
        "      largest = l\n",
        "\n",
        "  if r < n and arr[largest] < arr[r]:\n",
        "      largest = r\n",
        "\n",
        "  # If root is not largest, swap with largest and continue heapifying\n",
        "  if largest != i:\n",
        "      arr[i], arr[largest] = arr[largest], arr[i]\n",
        "      heapify(arr, n, largest)\n",
        "\n",
        "def heapSort(arr):\n",
        "  n = len(arr)\n",
        "  \n",
        "  # Build max heap\n",
        "  for i in range(n//2, -1, -1):\n",
        "      heapify(arr, n, i)\n",
        "\n",
        "  for i in range(n-1, 0, -1):\n",
        "      # Swap\n",
        "      arr[i], arr[0] = arr[0], arr[i]\n",
        "\n",
        "      # Heapify root element\n",
        "      heapify(arr, i, 0)\n",
        "  return arr"
      ]
    },
    {
      "cell_type": "markdown",
      "metadata": {
        "id": "fFiGho5CyU3t"
      },
      "source": [
        "## Quick Sort com pivo sendo o ultimo elemento do arranjo\n",
        "\n",
        "> pivo = *A[A-comprimento]*"
      ]
    },
    {
      "cell_type": "code",
      "execution_count": 73,
      "metadata": {
        "id": "1Ie_N5CRyKY7"
      },
      "outputs": [],
      "source": [
        "def quickSort(alist):\n",
        "   quickSortHelper(alist,0,len(alist)-1)\n",
        "   pivo = alist[len(alist)-1]-len(alist)\n",
        "   alist[len(alist)-1] = pivo\n",
        "   return alist\n",
        "\n",
        "def quickSortHelper(alist,first,last):\n",
        "   if first<last:\n",
        "\n",
        "       splitpoint = partition(alist,first,last)\n",
        "\n",
        "       quickSortHelper(alist,first,splitpoint-1)\n",
        "       quickSortHelper(alist,splitpoint+1,last)\n",
        "\n",
        "\n",
        "def partition(alist,first,last):\n",
        "   pivotvalue = alist[first]\n",
        "\n",
        "   leftmark = first+1\n",
        "   rightmark = last\n",
        "\n",
        "   done = False\n",
        "   while not done:\n",
        "\n",
        "       while leftmark <= rightmark and alist[leftmark] <= pivotvalue:\n",
        "           leftmark = leftmark + 1\n",
        "\n",
        "       while alist[rightmark] >= pivotvalue and rightmark >= leftmark:\n",
        "           rightmark = rightmark -1\n",
        "\n",
        "       if rightmark < leftmark:\n",
        "           done = True\n",
        "       else:\n",
        "           temp = alist[leftmark]\n",
        "           alist[leftmark] = alist[rightmark]\n",
        "           alist[rightmark] = temp\n",
        "\n",
        "   temp = alist[first]\n",
        "   alist[first] = alist[rightmark]\n",
        "   alist[rightmark] = temp\n",
        "\n",
        "\n",
        "   return rightmark"
      ]
    },
    {
      "cell_type": "markdown",
      "metadata": {
        "id": "VomdAnCrzEv1"
      },
      "source": [
        "# Questões"
      ]
    },
    {
      "cell_type": "code",
      "source": [],
      "metadata": {
        "id": "wrl8LXrt2wqF"
      },
      "execution_count": null,
      "outputs": []
    },
    {
      "cell_type": "markdown",
      "metadata": {
        "id": "3QKV979kzItD"
      },
      "source": [
        "\n",
        "\n",
        "1.   Escolha pelo menos 3 arranjos. Ex: ***A[5,...,1000,...,100]*** e mostre o funcionamento dos Algoritmos realizando a ordenação.\n",
        "\n",
        "\n",
        "\n"
      ]
    },
    {
      "cell_type": "code",
      "execution_count": 72,
      "metadata": {
        "id": "nBfs279_1Vko",
        "colab": {
          "base_uri": "https://localhost:8080/"
        },
        "outputId": "840c3004-757b-48bc-875c-b719dcb00ab8"
      },
      "outputs": [
        {
          "output_type": "stream",
          "name": "stdout",
          "text": [
            "Arrays originais:\n",
            "[7, 1, 7, 5, 8, 1, 8, 9, 5, 4, 54]\n",
            "[1000, 40, 23, 57, 46, 58, 66, 99, 45, 555]\n",
            "[44, 111, 243, 554, 28, 331, 418, 649, 785, 4, 54354]\n",
            "InsertionSort:\n",
            "[ 1  1  4  5  5  7  7  8  8  9 54]\n",
            "[  23   40   45   46   57   58   66   99  555 1000]\n",
            "[    4    28    44   111   243   331   418   554   649   785 54354]\n",
            "MergeSort:\n",
            "[ 1  1  1  1  1  1  4  4  4  4 54]\n",
            "[ 23  23  23  45  45  45  45  45  45 555]\n",
            "[    4     4     4     4     4     4     4     4     4     4 54354]\n",
            "SelectionSort:\n",
            "[ 1  1  4  5  5  7  7  8  8  9 54]\n",
            "[  23   40   45   46   57   58   66   99  555 1000]\n",
            "[    4    28    44   111   243   331   418   554   649   785 54354]\n",
            "BubbleSort:\n",
            "[ 1  1  4  5  5  7  7  8  8  9 54]\n",
            "[  23   40   45   46   57   58   66   99  555 1000]\n",
            "[    4    28    44   111   243   331   418   554   649   785 54354]\n",
            "HeapSort:\n",
            "[ 1  1  4  5  5  7  7  8  8  9 54]\n",
            "[  23   40   45   46   57   58   66   99  555 1000]\n",
            "[    4    28    44   111   243   331   418   554   649   785 54354]\n",
            "QuickSort:\n",
            "43\n",
            "[ 1  1  4  5  5  7  7  8  8  9 43]\n",
            "990\n",
            "[ 23  40  45  46  57  58  66  99 555 990]\n",
            "54343\n",
            "[    4    28    44   111   243   331   418   554   649   785 54343]\n"
          ]
        }
      ],
      "source": [
        "print(\"Arrays originais:\")\n",
        "for array in arrays:\n",
        "  print(array)\n",
        "\n",
        "print(\"InsertionSort:\")\n",
        "for array in arrays:\n",
        "  print(insertionSort(np.array(array)))\n",
        "\n",
        "print(\"MergeSort:\")\n",
        "for array in arrays:\n",
        "  print(mergeSort(np.array(array)))\n",
        "\n",
        "print(\"SelectionSort:\")\n",
        "for array in arrays:\n",
        "  print(selectionSort(np.array(array)))\n",
        "\n",
        "print(\"BubbleSort:\")\n",
        "for array in arrays:\n",
        "  print(bubbleSort(np.array(array)))\n",
        "\n",
        "print(\"HeapSort:\")\n",
        "for array in arrays:\n",
        "  print(heapSort(np.array(array)))\n",
        "\n",
        "print(\"QuickSort:\")\n",
        "for array in arrays:\n",
        "  print(quickSort(np.array(array)))"
      ]
    }
  ],
  "metadata": {
    "colab": {
      "provenance": [],
      "toc_visible": true,
      "include_colab_link": true
    },
    "kernelspec": {
      "display_name": "Python 3",
      "name": "python3"
    },
    "language_info": {
      "name": "python"
    }
  },
  "nbformat": 4,
  "nbformat_minor": 0
}